{
  "nbformat": 4,
  "nbformat_minor": 0,
  "metadata": {
    "colab": {
      "name": "Untitled2.ipynb",
      "provenance": [],
      "collapsed_sections": []
    },
    "kernelspec": {
      "name": "python3",
      "display_name": "Python 3"
    }
  },
  "cells": [
    {
      "cell_type": "markdown",
      "metadata": {
        "id": "q4JfKi4U_reu",
        "colab_type": "text"
      },
      "source": [
        ""
      ]
    },
    {
      "cell_type": "markdown",
      "metadata": {
        "id": "5a4cCHz3_v--",
        "colab_type": "text"
      },
      "source": [
        "WELCOME TO COMPLETE PYTHON BOOTCAMP\n",
        "TOPICS:\n",
        "1.Basics of printing and taking input from the user..\n",
        "2.Datatypes in python\n",
        "3.Basic datastructure\n",
        "4.Frequently used keywords.\n",
        "//happy learning.."
      ]
    },
    {
      "cell_type": "markdown",
      "metadata": {
        "id": "MwKrEc24AAKw",
        "colab_type": "text"
      },
      "source": [
        "//HISTORY:\n",
        "The programming language #Python was conceived in the late 1980s, and its implementation was started in December 1989 by Guido van Rossum at CWI in the Netherlands as a successor to ABC capable of exception handling and interfacing with the Amoeba operating system.\n",
        "\n",
        "\n",
        "---\n",
        "\n",
        "\n",
        "What is unique about python?\n",
        "\n",
        "![download (4).jfif](data:image/jpeg;base64,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)\n",
        "\n",
        "There are many updation and modification in python language which can be called as another name of #version.\n",
        "For example python>>python2.x and now python3.x\n",
        "Python is very famous because its extreme use in artificial intelligence,machine learning and deeplearning applications.\n",
        "\n",
        "\n",
        "---\n",
        "\n",
        "\n",
        "Python is extremely used because of its vast library, frameworks and modules for example django and flask are extremely used for web application or simply webframework.\n",
        "*Before going into deep it is recommended to first understand basics then miniprojects and then move to your favorite framework and then into AI world..*\n",
        "**Happy learning**\n"
      ]
    },
    {
      "cell_type": "markdown",
      "metadata": {
        "id": "jQci6E2rEium",
        "colab_type": "text"
      },
      "source": [
        "**Print statement in python or \"Hello World code\"**\n",
        "\n",
        "---\n",
        "To print anything in python as an output this language uses print function.\n",
        "syntax:\n",
        "\n",
        "\n",
        "---\n",
        "print(  )\n",
        "\n",
        "\n",
        "---\n",
        "\n",
        "if you want to print any character or characters .we will use double qoutes.\n",
        "also anything inside double or single quote is called string.\n",
        "\n",
        "for example>> let us print  Hello World\n",
        "\n",
        "\n",
        "\n",
        "\n"
      ]
    },
    {
      "cell_type": "code",
      "metadata": {
        "id": "xfC-DdANF41w",
        "colab_type": "code",
        "colab": {
          "base_uri": "https://localhost:8080/",
          "height": 34
        },
        "outputId": "ea49fd94-c8bb-47f5-a4f4-432cb571e7aa"
      },
      "source": [
        "print(\"Hello world\")"
      ],
      "execution_count": 1,
      "outputs": [
        {
          "output_type": "stream",
          "text": [
            "Hello world\n"
          ],
          "name": "stdout"
        }
      ]
    },
    {
      "cell_type": "code",
      "metadata": {
        "id": "wEP1zIi3GBQZ",
        "colab_type": "code",
        "colab": {
          "base_uri": "https://localhost:8080/",
          "height": 34
        },
        "outputId": "95960b29-b27c-440b-ae98-c1c62953de00"
      },
      "source": [
        "print('welcome to bootcamp')"
      ],
      "execution_count": 2,
      "outputs": [
        {
          "output_type": "stream",
          "text": [
            "welcome to bootcamp\n"
          ],
          "name": "stdout"
        }
      ]
    },
    {
      "cell_type": "markdown",
      "metadata": {
        "id": "0K5w4RaJGIUd",
        "colab_type": "text"
      },
      "source": [
        ""
      ]
    },
    {
      "cell_type": "markdown",
      "metadata": {
        "id": "rawIWnN6_ug9",
        "colab_type": "text"
      },
      "source": [
        ""
      ]
    },
    {
      "cell_type": "markdown",
      "metadata": {
        "id": "mjkhSZAt_Vyp",
        "colab_type": "text"
      },
      "source": [
        ""
      ]
    }
  ]
}